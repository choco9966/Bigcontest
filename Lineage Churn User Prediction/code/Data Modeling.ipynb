{
 "cells": [
  {
   "cell_type": "code",
   "execution_count": 1,
   "metadata": {},
   "outputs": [],
   "source": [
    "# 분석 패키지 \n",
    "import numpy as np, pandas as pd\n",
    "import datetime\n",
    "\n",
    "# 시각화 패키지 \n",
    "import matplotlib.pylab as plt\n",
    "\n",
    "import seaborn as sns\n",
    "import plotly.graph_objs as go\n",
    "import plotly.tools as tls\n",
    "from plotly.offline import iplot, init_notebook_mode\n",
    "import plotly.figure_factory as ff\n",
    "\n",
    "# 유틸 패키지 \n",
    "import gc\n",
    "from tqdm import tqdm_notebook"
   ]
  },
  {
   "cell_type": "code",
   "execution_count": 2,
   "metadata": {},
   "outputs": [
    {
     "data": {
      "text/html": [
       "        <script type=\"text/javascript\">\n",
       "        window.PlotlyConfig = {MathJaxConfig: 'local'};\n",
       "        if (window.MathJax) {MathJax.Hub.Config({SVG: {font: \"STIX-Web\"}});}\n",
       "        if (typeof require !== 'undefined') {\n",
       "        require.undef(\"plotly\");\n",
       "        requirejs.config({\n",
       "            paths: {\n",
       "                'plotly': ['https://cdn.plot.ly/plotly-latest.min']\n",
       "            }\n",
       "        });\n",
       "        require(['plotly'], function(Plotly) {\n",
       "            window._Plotly = Plotly;\n",
       "        });\n",
       "        }\n",
       "        </script>\n",
       "        "
      ]
     },
     "metadata": {},
     "output_type": "display_data"
    }
   ],
   "source": [
    "%matplotlib inline\n",
    "\n",
    "from plotly import tools\n",
    "import plotly.offline as py\n",
    "py.init_notebook_mode(connected=True)\n",
    "import plotly.graph_objs as go\n",
    "\n",
    "pd.options.mode.chained_assignment = None\n",
    "pd.options.display.max_columns = 999\n",
    "\n",
    "import plotly.graph_objs as go"
   ]
  },
  {
   "cell_type": "code",
   "execution_count": 3,
   "metadata": {},
   "outputs": [],
   "source": [
    "# activity.csv : 캐릭터별 활동 이력. \n",
    "train_activity = pd.read_csv(\"./input/train_activity.csv\")\n",
    "test1_activity = pd.read_csv(\"./input/test1_activity.csv\")\n",
    "test2_activity = pd.read_csv(\"./input/test2_activity.csv\")"
   ]
  },
  {
   "cell_type": "code",
   "execution_count": 4,
   "metadata": {},
   "outputs": [
    {
     "ename": "KeyboardInterrupt",
     "evalue": "",
     "output_type": "error",
     "traceback": [
      "\u001b[1;31m---------------------------------------------------------------------------\u001b[0m",
      "\u001b[1;31mKeyboardInterrupt\u001b[0m                         Traceback (most recent call last)",
      "\u001b[1;32m<ipython-input-4-4a8f8f71b1a4>\u001b[0m in \u001b[0;36m<module>\u001b[1;34m\u001b[0m\n\u001b[0;32m      2\u001b[0m \u001b[0mtrain_combat\u001b[0m \u001b[1;33m=\u001b[0m \u001b[0mpd\u001b[0m\u001b[1;33m.\u001b[0m\u001b[0mread_csv\u001b[0m\u001b[1;33m(\u001b[0m\u001b[1;34m\"./input/train_combat.csv\"\u001b[0m\u001b[1;33m)\u001b[0m\u001b[1;33m\u001b[0m\u001b[1;33m\u001b[0m\u001b[0m\n\u001b[0;32m      3\u001b[0m \u001b[0mtest1_combat\u001b[0m \u001b[1;33m=\u001b[0m \u001b[0mpd\u001b[0m\u001b[1;33m.\u001b[0m\u001b[0mread_csv\u001b[0m\u001b[1;33m(\u001b[0m\u001b[1;34m\"./input/test1_combat.csv\"\u001b[0m\u001b[1;33m)\u001b[0m\u001b[1;33m\u001b[0m\u001b[1;33m\u001b[0m\u001b[0m\n\u001b[1;32m----> 4\u001b[1;33m \u001b[0mtest2_combat\u001b[0m \u001b[1;33m=\u001b[0m \u001b[0mpd\u001b[0m\u001b[1;33m.\u001b[0m\u001b[0mread_csv\u001b[0m\u001b[1;33m(\u001b[0m\u001b[1;34m\"./input/test2_combat.csv\"\u001b[0m\u001b[1;33m)\u001b[0m\u001b[1;33m\u001b[0m\u001b[1;33m\u001b[0m\u001b[0m\n\u001b[0m",
      "\u001b[1;32m~\\Anaconda3\\lib\\site-packages\\pandas\\io\\parsers.py\u001b[0m in \u001b[0;36mparser_f\u001b[1;34m(filepath_or_buffer, sep, delimiter, header, names, index_col, usecols, squeeze, prefix, mangle_dupe_cols, dtype, engine, converters, true_values, false_values, skipinitialspace, skiprows, nrows, na_values, keep_default_na, na_filter, verbose, skip_blank_lines, parse_dates, infer_datetime_format, keep_date_col, date_parser, dayfirst, iterator, chunksize, compression, thousands, decimal, lineterminator, quotechar, quoting, escapechar, comment, encoding, dialect, tupleize_cols, error_bad_lines, warn_bad_lines, skipfooter, doublequote, delim_whitespace, low_memory, memory_map, float_precision)\u001b[0m\n\u001b[0;32m    676\u001b[0m                     skip_blank_lines=skip_blank_lines)\n\u001b[0;32m    677\u001b[0m \u001b[1;33m\u001b[0m\u001b[0m\n\u001b[1;32m--> 678\u001b[1;33m         \u001b[1;32mreturn\u001b[0m \u001b[0m_read\u001b[0m\u001b[1;33m(\u001b[0m\u001b[0mfilepath_or_buffer\u001b[0m\u001b[1;33m,\u001b[0m \u001b[0mkwds\u001b[0m\u001b[1;33m)\u001b[0m\u001b[1;33m\u001b[0m\u001b[1;33m\u001b[0m\u001b[0m\n\u001b[0m\u001b[0;32m    679\u001b[0m \u001b[1;33m\u001b[0m\u001b[0m\n\u001b[0;32m    680\u001b[0m     \u001b[0mparser_f\u001b[0m\u001b[1;33m.\u001b[0m\u001b[0m__name__\u001b[0m \u001b[1;33m=\u001b[0m \u001b[0mname\u001b[0m\u001b[1;33m\u001b[0m\u001b[1;33m\u001b[0m\u001b[0m\n",
      "\u001b[1;32m~\\Anaconda3\\lib\\site-packages\\pandas\\io\\parsers.py\u001b[0m in \u001b[0;36m_read\u001b[1;34m(filepath_or_buffer, kwds)\u001b[0m\n\u001b[0;32m    444\u001b[0m \u001b[1;33m\u001b[0m\u001b[0m\n\u001b[0;32m    445\u001b[0m     \u001b[1;32mtry\u001b[0m\u001b[1;33m:\u001b[0m\u001b[1;33m\u001b[0m\u001b[1;33m\u001b[0m\u001b[0m\n\u001b[1;32m--> 446\u001b[1;33m         \u001b[0mdata\u001b[0m \u001b[1;33m=\u001b[0m \u001b[0mparser\u001b[0m\u001b[1;33m.\u001b[0m\u001b[0mread\u001b[0m\u001b[1;33m(\u001b[0m\u001b[0mnrows\u001b[0m\u001b[1;33m)\u001b[0m\u001b[1;33m\u001b[0m\u001b[1;33m\u001b[0m\u001b[0m\n\u001b[0m\u001b[0;32m    447\u001b[0m     \u001b[1;32mfinally\u001b[0m\u001b[1;33m:\u001b[0m\u001b[1;33m\u001b[0m\u001b[1;33m\u001b[0m\u001b[0m\n\u001b[0;32m    448\u001b[0m         \u001b[0mparser\u001b[0m\u001b[1;33m.\u001b[0m\u001b[0mclose\u001b[0m\u001b[1;33m(\u001b[0m\u001b[1;33m)\u001b[0m\u001b[1;33m\u001b[0m\u001b[1;33m\u001b[0m\u001b[0m\n",
      "\u001b[1;32m~\\Anaconda3\\lib\\site-packages\\pandas\\io\\parsers.py\u001b[0m in \u001b[0;36mread\u001b[1;34m(self, nrows)\u001b[0m\n\u001b[0;32m   1034\u001b[0m                 \u001b[1;32mraise\u001b[0m \u001b[0mValueError\u001b[0m\u001b[1;33m(\u001b[0m\u001b[1;34m'skipfooter not supported for iteration'\u001b[0m\u001b[1;33m)\u001b[0m\u001b[1;33m\u001b[0m\u001b[1;33m\u001b[0m\u001b[0m\n\u001b[0;32m   1035\u001b[0m \u001b[1;33m\u001b[0m\u001b[0m\n\u001b[1;32m-> 1036\u001b[1;33m         \u001b[0mret\u001b[0m \u001b[1;33m=\u001b[0m \u001b[0mself\u001b[0m\u001b[1;33m.\u001b[0m\u001b[0m_engine\u001b[0m\u001b[1;33m.\u001b[0m\u001b[0mread\u001b[0m\u001b[1;33m(\u001b[0m\u001b[0mnrows\u001b[0m\u001b[1;33m)\u001b[0m\u001b[1;33m\u001b[0m\u001b[1;33m\u001b[0m\u001b[0m\n\u001b[0m\u001b[0;32m   1037\u001b[0m \u001b[1;33m\u001b[0m\u001b[0m\n\u001b[0;32m   1038\u001b[0m         \u001b[1;31m# May alter columns / col_dict\u001b[0m\u001b[1;33m\u001b[0m\u001b[1;33m\u001b[0m\u001b[1;33m\u001b[0m\u001b[0m\n",
      "\u001b[1;32m~\\Anaconda3\\lib\\site-packages\\pandas\\io\\parsers.py\u001b[0m in \u001b[0;36mread\u001b[1;34m(self, nrows)\u001b[0m\n\u001b[0;32m   1846\u001b[0m     \u001b[1;32mdef\u001b[0m \u001b[0mread\u001b[0m\u001b[1;33m(\u001b[0m\u001b[0mself\u001b[0m\u001b[1;33m,\u001b[0m \u001b[0mnrows\u001b[0m\u001b[1;33m=\u001b[0m\u001b[1;32mNone\u001b[0m\u001b[1;33m)\u001b[0m\u001b[1;33m:\u001b[0m\u001b[1;33m\u001b[0m\u001b[1;33m\u001b[0m\u001b[0m\n\u001b[0;32m   1847\u001b[0m         \u001b[1;32mtry\u001b[0m\u001b[1;33m:\u001b[0m\u001b[1;33m\u001b[0m\u001b[1;33m\u001b[0m\u001b[0m\n\u001b[1;32m-> 1848\u001b[1;33m             \u001b[0mdata\u001b[0m \u001b[1;33m=\u001b[0m \u001b[0mself\u001b[0m\u001b[1;33m.\u001b[0m\u001b[0m_reader\u001b[0m\u001b[1;33m.\u001b[0m\u001b[0mread\u001b[0m\u001b[1;33m(\u001b[0m\u001b[0mnrows\u001b[0m\u001b[1;33m)\u001b[0m\u001b[1;33m\u001b[0m\u001b[1;33m\u001b[0m\u001b[0m\n\u001b[0m\u001b[0;32m   1849\u001b[0m         \u001b[1;32mexcept\u001b[0m \u001b[0mStopIteration\u001b[0m\u001b[1;33m:\u001b[0m\u001b[1;33m\u001b[0m\u001b[1;33m\u001b[0m\u001b[0m\n\u001b[0;32m   1850\u001b[0m             \u001b[1;32mif\u001b[0m \u001b[0mself\u001b[0m\u001b[1;33m.\u001b[0m\u001b[0m_first_chunk\u001b[0m\u001b[1;33m:\u001b[0m\u001b[1;33m\u001b[0m\u001b[1;33m\u001b[0m\u001b[0m\n",
      "\u001b[1;32mpandas\\_libs\\parsers.pyx\u001b[0m in \u001b[0;36mpandas._libs.parsers.TextReader.read\u001b[1;34m()\u001b[0m\n",
      "\u001b[1;32mpandas\\_libs\\parsers.pyx\u001b[0m in \u001b[0;36mpandas._libs.parsers.TextReader._read_low_memory\u001b[1;34m()\u001b[0m\n",
      "\u001b[1;32mpandas\\_libs\\parsers.pyx\u001b[0m in \u001b[0;36mpandas._libs.parsers.TextReader._read_rows\u001b[1;34m()\u001b[0m\n",
      "\u001b[1;32mpandas\\_libs\\parsers.pyx\u001b[0m in \u001b[0;36mpandas._libs.parsers.TextReader._convert_column_data\u001b[1;34m()\u001b[0m\n",
      "\u001b[1;32mpandas\\_libs\\parsers.pyx\u001b[0m in \u001b[0;36mpandas._libs.parsers.TextReader._convert_tokens\u001b[1;34m()\u001b[0m\n",
      "\u001b[1;32mpandas\\_libs\\parsers.pyx\u001b[0m in \u001b[0;36mpandas._libs.parsers.TextReader._convert_with_dtype\u001b[1;34m()\u001b[0m\n",
      "\u001b[1;32m~\\Anaconda3\\lib\\site-packages\\pandas\\core\\dtypes\\common.py\u001b[0m in \u001b[0;36mis_integer_dtype\u001b[1;34m(arr_or_dtype)\u001b[0m\n\u001b[0;32m    809\u001b[0m \u001b[1;33m\u001b[0m\u001b[0m\n\u001b[0;32m    810\u001b[0m \u001b[1;33m\u001b[0m\u001b[0m\n\u001b[1;32m--> 811\u001b[1;33m \u001b[1;32mdef\u001b[0m \u001b[0mis_integer_dtype\u001b[0m\u001b[1;33m(\u001b[0m\u001b[0marr_or_dtype\u001b[0m\u001b[1;33m)\u001b[0m\u001b[1;33m:\u001b[0m\u001b[1;33m\u001b[0m\u001b[1;33m\u001b[0m\u001b[0m\n\u001b[0m\u001b[0;32m    812\u001b[0m     \"\"\"\n\u001b[0;32m    813\u001b[0m     \u001b[0mCheck\u001b[0m \u001b[0mwhether\u001b[0m \u001b[0mthe\u001b[0m \u001b[0mprovided\u001b[0m \u001b[0marray\u001b[0m \u001b[1;32mor\u001b[0m \u001b[0mdtype\u001b[0m \u001b[1;32mis\u001b[0m \u001b[0mof\u001b[0m \u001b[0man\u001b[0m \u001b[0minteger\u001b[0m \u001b[0mdtype\u001b[0m\u001b[1;33m.\u001b[0m\u001b[1;33m\u001b[0m\u001b[1;33m\u001b[0m\u001b[0m\n",
      "\u001b[1;31mKeyboardInterrupt\u001b[0m: "
     ]
    }
   ],
   "source": [
    "# combat.csv : 캐릭터별 전투 이력\n",
    "train_combat = pd.read_csv(\"./input/train_combat.csv\")\n",
    "test1_combat = pd.read_csv(\"./input/test1_combat.csv\")\n",
    "test2_combat = pd.read_csv(\"./input/test2_combat.csv\")"
   ]
  },
  {
   "cell_type": "code",
   "execution_count": null,
   "metadata": {},
   "outputs": [],
   "source": [
    "# payment.csv : 결제 데이터 \n",
    "train_payment = pd.read_csv(\"./input/train_payment.csv\")\n",
    "test1_payment = pd.read_csv(\"./input/test1_payment.csv\")\n",
    "test2_payment = pd.read_csv(\"./input/test2_payment.csv\")"
   ]
  },
  {
   "cell_type": "code",
   "execution_count": null,
   "metadata": {},
   "outputs": [],
   "source": [
    "# pledge.csv 소속 혈맹 전투 활동 정보 \n",
    "train_pledge = pd.read_csv(\"./input/train_pledge.csv\")\n",
    "test1_pledge = pd.read_csv(\"./input/test1_pledge.csv\")\n",
    "test2_pledge = pd.read_csv(\"./input/test2_pledge.csv\")"
   ]
  },
  {
   "cell_type": "code",
   "execution_count": null,
   "metadata": {},
   "outputs": [],
   "source": [
    "# trade.csv 거래 이력 \n",
    "train_trade = pd.read_csv(\"./input/train_trade.csv\")\n",
    "test1_trade = pd.read_csv(\"./input/test1_trade.csv\")\n",
    "test2_trade = pd.read_csv(\"./input/test2_trade.csv\")"
   ]
  },
  {
   "cell_type": "code",
   "execution_count": null,
   "metadata": {},
   "outputs": [],
   "source": [
    "# label.csv \n",
    "train_label = pd.read_csv(\"./input/train_label.csv\")"
   ]
  },
  {
   "cell_type": "markdown",
   "metadata": {},
   "source": [
    "### 데이터 결합 "
   ]
  },
  {
   "cell_type": "markdown",
   "metadata": {},
   "source": [
    "- activity : [day, acc_id, char_id, server]\n",
    "- combat : [day, acc_id, char_id, server]\n",
    "- payment : [day, acc_id] \n",
    "- pledge : [day, acc_id, char_id, server]\n",
    "- trade : \n",
    "    - [day, source_acc_id, source_char_id, target_acc_id, target_char_id] \n",
    "    - [day, target_acc_id, target_char_id, source_acc_id, source_char_id] "
   ]
  },
  {
   "cell_type": "code",
   "execution_count": null,
   "metadata": {},
   "outputs": [],
   "source": [
    "# market은 개인 상점을 통해서 이루어진 거래를 의미. \n",
    "# people은 개인과 개인을 통해서 이루어진 거래를 의미. \n",
    "train = train_activity[['day','server','acc_id', 'char_id']]\n",
    "train_trade_market = train_trade[train_trade[\"type\"]==0]\n",
    "train_trade_people = train_trade[train_trade[\"type\"]==1]"
   ]
  },
  {
   "cell_type": "code",
   "execution_count": null,
   "metadata": {},
   "outputs": [],
   "source": [
    "train_trade_people['item_type'].unique()"
   ]
  },
  {
   "cell_type": "code",
   "execution_count": null,
   "metadata": {},
   "outputs": [],
   "source": [
    "# source_acc_id와 source_char_id를 통해서 groupby를 한 경우는 주는 사람을 입장으로 agg\n",
    "train_trade_market_item_amount_source = train_trade_market.groupby(['day','server','source_acc_id','source_char_id','item_type'])['item_amount'].agg({'sum'}).reset_index()\n",
    "train_trade_market_item_amount_source.rename(columns={\"sum\":\"{}\".format('market_amount_source')},inplace=True)\n",
    "\n",
    "train_trade_market_item_price_source = train_trade_market.groupby(['day','server','source_acc_id','source_char_id','item_type'])['item_price'].agg({'sum'}).reset_index()\n",
    "train_trade_market_item_price_source.rename(columns={\"sum\":\"{}\".format('market_price_source')},inplace=True)\n",
    "\n",
    "train_trade_people_item_amount_source = train_trade_people.groupby(['day','server','source_acc_id','source_char_id','item_type'])['item_amount'].agg({'sum'}).reset_index()\n",
    "train_trade_people_item_amount_source.rename(columns={\"sum\":\"{}\".format('people_amount_source')},inplace=True)\n",
    "\n",
    "# target_acc_id와 target_char_id 통해서 groupby를 한 경우는 받는 사람을 입장으로 agg\n",
    "train_trade_market_item_amount_target = train_trade_market.groupby(['day','server','target_acc_id','target_char_id','item_type'])['item_amount'].agg({'sum'}).reset_index()\n",
    "train_trade_market_item_amount_target.rename(columns={\"sum\":\"{}\".format('market_amount_target')},inplace=True)\n",
    "\n",
    "train_trade_market_item_price_target = train_trade_market.groupby(['day','server','target_acc_id','target_char_id','item_type'])['item_price'].agg({'sum'}).reset_index()\n",
    "train_trade_market_item_price_target.rename(columns={\"sum\":\"{}\".format('market_price_target')},inplace=True)\n",
    "\n",
    "train_trade_people_item_amount_target = train_trade_people.groupby(['day','server','target_acc_id','target_char_id','item_type'])['item_amount'].agg({'sum'}).reset_index()\n",
    "train_trade_people_item_amount_target.rename(columns={\"sum\":\"{}\".format('people_amount_target')},inplace=True)"
   ]
  },
  {
   "cell_type": "code",
   "execution_count": null,
   "metadata": {},
   "outputs": [],
   "source": [
    "for df in tqdm_notebook([train_trade_market_item_amount_source, train_trade_market_item_price_source, train_trade_people_item_amount_source]):\n",
    "    for i in ['etc', 'enchant_scroll', 'accessory', 'armor', 'weapon', 'spell']:\n",
    "        df_i = df[df['item_type'] == i].reset_index(drop=True)\n",
    "        df_i.rename(columns={\"{}\".format(df_i.columns[5]):\"{}_{}\".format(df_i.columns[5],i)},inplace=True)\n",
    "        df_i.rename(columns={\"source_acc_id\":\"acc_id\"},inplace=True)\n",
    "        df_i.rename(columns={\"source_char_id\":\"char_id\"},inplace=True)\n",
    "        del df_i['item_type']\n",
    "        \n",
    "        train = train.merge(df_i,how='left',on=['day','server', 'acc_id', 'char_id'])\n",
    "        \n",
    "for df in tqdm_notebook([train_trade_market_item_amount_target, train_trade_market_item_price_target, train_trade_people_item_amount_target]):\n",
    "    for i in ['etc', 'enchant_scroll', 'accessory', 'armor', 'weapon', 'spell', 'adena']:\n",
    "        df_i = df[df['item_type'] == i].reset_index(drop=True)\n",
    "        df_i.rename(columns={\"{}\".format(df_i.columns[5]):\"{}_{}\".format(df_i.columns[5],i)},inplace=True)\n",
    "        df_i.rename(columns={\"target_acc_id\":\"acc_id\"},inplace=True)\n",
    "        df_i.rename(columns={\"target_char_id\":\"char_id\"},inplace=True)\n",
    "        del df_i['item_type']\n",
    "        \n",
    "        train = train.merge(df_i,how='left',on=['day','server','acc_id', 'char_id'])"
   ]
  },
  {
   "cell_type": "code",
   "execution_count": null,
   "metadata": {},
   "outputs": [],
   "source": [
    "train = train.fillna(0)\n",
    "train = train.merge(train_activity,how='left',on=['day', 'acc_id', 'char_id', 'server'])\n",
    "train = train.merge(train_combat,how='left',on=['day', 'acc_id', 'char_id', 'server'])\n",
    "train = train.merge(train_pledge,how='left',on=['day', 'acc_id', 'char_id', 'server'])\n",
    "# train = train.merge(train_payment,how='left',on=['day', 'acc_id'])"
   ]
  },
  {
   "cell_type": "code",
   "execution_count": null,
   "metadata": {},
   "outputs": [],
   "source": [
    "test1 = test1_activity[['day','server','acc_id', 'char_id']]\n",
    "\n",
    "# market은 개인 상점을 통해서 이루어진 거래를 의미. \n",
    "# people은 개인과 개인을 통해서 이루어진 거래를 의미. \n",
    "test1_trade_market = test1_trade[test1_trade[\"type\"]==0]\n",
    "test1_trade_people = test1_trade[test1_trade[\"type\"]==1]\n",
    "\n",
    "# source_acc_id와 source_char_id를 통해서 groupby를 한 경우는 주는 사람을 입장으로 agg\n",
    "test1_trade_market_item_amount_source = test1_trade_market.groupby(['day','server','source_acc_id','source_char_id','item_type'])['item_amount'].agg({'sum'}).reset_index()\n",
    "test1_trade_market_item_amount_source.rename(columns={\"sum\":\"{}\".format('market_amount_source')},inplace=True)\n",
    "\n",
    "test1_trade_market_item_price_source = test1_trade_market.groupby(['day','server','source_acc_id','source_char_id','item_type'])['item_price'].agg({'sum'}).reset_index()\n",
    "test1_trade_market_item_price_source.rename(columns={\"sum\":\"{}\".format('market_price_source')},inplace=True)\n",
    "\n",
    "test1_trade_people_item_amount_source = test1_trade_people.groupby(['day','server','source_acc_id','source_char_id','item_type'])['item_amount'].agg({'sum'}).reset_index()\n",
    "test1_trade_people_item_amount_source.rename(columns={\"sum\":\"{}\".format('people_amount_source')},inplace=True)\n",
    "\n",
    "# target_acc_id와 target_char_id 통해서 groupby를 한 경우는 받는 사람을 입장으로 agg\n",
    "test1_trade_market_item_amount_target = test1_trade_market.groupby(['day','server','target_acc_id','target_char_id','item_type'])['item_amount'].agg({'sum'}).reset_index()\n",
    "test1_trade_market_item_amount_target.rename(columns={\"sum\":\"{}\".format('market_amount_target')},inplace=True)\n",
    "\n",
    "test1_trade_market_item_price_target = test1_trade_market.groupby(['day','server','target_acc_id','target_char_id','item_type'])['item_price'].agg({'sum'}).reset_index()\n",
    "test1_trade_market_item_price_target.rename(columns={\"sum\":\"{}\".format('market_price_target')},inplace=True)\n",
    "\n",
    "test1_trade_people_item_amount_target = test1_trade_people.groupby(['day','server','target_acc_id','target_char_id','item_type'])['item_amount'].agg({'sum'}).reset_index()\n",
    "test1_trade_people_item_amount_target.rename(columns={\"sum\":\"{}\".format('people_amount_target')},inplace=True)\n",
    "\n",
    "for df in tqdm_notebook([test1_trade_market_item_amount_source, test1_trade_market_item_price_source, test1_trade_people_item_amount_source]):\n",
    "    for i in ['etc', 'enchant_scroll', 'accessory', 'armor', 'weapon', 'spell']:\n",
    "        df_i = df[df['item_type'] == i].reset_index(drop=True)\n",
    "        df_i.rename(columns={\"{}\".format(df_i.columns[5]):\"{}_{}\".format(df_i.columns[5],i)},inplace=True)\n",
    "        df_i.rename(columns={\"source_acc_id\":\"acc_id\"},inplace=True)\n",
    "        df_i.rename(columns={\"source_char_id\":\"char_id\"},inplace=True)\n",
    "        del df_i['item_type']\n",
    "        \n",
    "        test1 = test1.merge(df_i,how='left',on=['day','server', 'acc_id', 'char_id'])\n",
    "        \n",
    "for df in tqdm_notebook([test1_trade_market_item_amount_target, test1_trade_market_item_price_target, test1_trade_people_item_amount_target]):\n",
    "    for i in ['etc', 'enchant_scroll', 'accessory', 'armor', 'weapon', 'spell','adena']:\n",
    "        df_i = df[df['item_type'] == i].reset_index(drop=True)\n",
    "        df_i.rename(columns={\"{}\".format(df_i.columns[5]):\"{}_{}\".format(df_i.columns[5],i)},inplace=True)\n",
    "        df_i.rename(columns={\"target_acc_id\":\"acc_id\"},inplace=True)\n",
    "        df_i.rename(columns={\"target_char_id\":\"char_id\"},inplace=True)\n",
    "        del df_i['item_type']\n",
    "        \n",
    "        test1 = test1.merge(df_i,how='left',on=['day','server','acc_id', 'char_id'])\n",
    "        \n",
    "test1 = test1.fillna(0) \n",
    "test1 = test1.merge(test1_activity,how='left',on=['day', 'acc_id', 'char_id', 'server'])\n",
    "test1 = test1.merge(test1_combat,how='left',on=['day', 'acc_id', 'char_id', 'server'])\n",
    "test1 = test1.merge(test1_pledge,how='left',on=['day', 'acc_id', 'char_id', 'server'])"
   ]
  },
  {
   "cell_type": "code",
   "execution_count": null,
   "metadata": {},
   "outputs": [],
   "source": [
    "test2 = test2_activity[['day','server','acc_id', 'char_id']]\n",
    "\n",
    "# market은 개인 상점을 통해서 이루어진 거래를 의미. \n",
    "# people은 개인과 개인을 통해서 이루어진 거래를 의미. \n",
    "test2_trade_market = test2_trade[test2_trade[\"type\"]==0]\n",
    "test2_trade_people = test2_trade[test2_trade[\"type\"]==1]\n",
    "\n",
    "# source_acc_id와 source_char_id를 통해서 groupby를 한 경우는 주는 사람을 입장으로 agg\n",
    "test2_trade_market_item_amount_source = test2_trade_market.groupby(['day','server','source_acc_id','source_char_id','item_type'])['item_amount'].agg({'sum'}).reset_index()\n",
    "test2_trade_market_item_amount_source.rename(columns={\"sum\":\"{}\".format('market_amount_source')},inplace=True)\n",
    "\n",
    "test2_trade_market_item_price_source = test2_trade_market.groupby(['day','server','source_acc_id','source_char_id','item_type'])['item_price'].agg({'sum'}).reset_index()\n",
    "test2_trade_market_item_price_source.rename(columns={\"sum\":\"{}\".format('market_price_source')},inplace=True)\n",
    "\n",
    "test2_trade_people_item_amount_source = test2_trade_people.groupby(['day','server','source_acc_id','source_char_id','item_type'])['item_amount'].agg({'sum'}).reset_index()\n",
    "test2_trade_people_item_amount_source.rename(columns={\"sum\":\"{}\".format('people_amount_source')},inplace=True)\n",
    "\n",
    "# target_acc_id와 target_char_id 통해서 groupby를 한 경우는 받는 사람을 입장으로 agg\n",
    "test2_trade_market_item_amount_target = test2_trade_market.groupby(['day','server','target_acc_id','target_char_id','item_type'])['item_amount'].agg({'sum'}).reset_index()\n",
    "test2_trade_market_item_amount_target.rename(columns={\"sum\":\"{}\".format('market_amount_target')},inplace=True)\n",
    "\n",
    "test2_trade_market_item_price_target = test2_trade_market.groupby(['day','server','target_acc_id','target_char_id','item_type'])['item_price'].agg({'sum'}).reset_index()\n",
    "test2_trade_market_item_price_target.rename(columns={\"sum\":\"{}\".format('market_price_target')},inplace=True)\n",
    "\n",
    "test2_trade_people_item_amount_target = test2_trade_people.groupby(['day','server','target_acc_id','target_char_id','item_type'])['item_amount'].agg({'sum'}).reset_index()\n",
    "test2_trade_people_item_amount_target.rename(columns={\"sum\":\"{}\".format('people_amount_target')},inplace=True)\n",
    "\n",
    "for df in tqdm_notebook([test2_trade_market_item_amount_source, test2_trade_market_item_price_source, test2_trade_people_item_amount_source]):\n",
    "    for i in ['etc', 'enchant_scroll', 'accessory', 'armor', 'weapon', 'spell']:\n",
    "        df_i = df[df['item_type'] == i].reset_index(drop=True)\n",
    "        df_i.rename(columns={\"{}\".format(df_i.columns[5]):\"{}_{}\".format(df_i.columns[5],i)},inplace=True)\n",
    "        df_i.rename(columns={\"source_acc_id\":\"acc_id\"},inplace=True)\n",
    "        df_i.rename(columns={\"source_char_id\":\"char_id\"},inplace=True)\n",
    "        del df_i['item_type']\n",
    "        \n",
    "        test2 = test2.merge(df_i,how='left',on=['day','server', 'acc_id', 'char_id'])\n",
    "        \n",
    "for df in tqdm_notebook([test2_trade_market_item_amount_target, test2_trade_market_item_price_target, test2_trade_people_item_amount_target]):\n",
    "    for i in ['etc', 'enchant_scroll', 'accessory', 'armor', 'weapon', 'spell','adena']:\n",
    "        df_i = df[df['item_type'] == i].reset_index(drop=True)\n",
    "        df_i.rename(columns={\"{}\".format(df_i.columns[5]):\"{}_{}\".format(df_i.columns[5],i)},inplace=True)\n",
    "        df_i.rename(columns={\"target_acc_id\":\"acc_id\"},inplace=True)\n",
    "        df_i.rename(columns={\"target_char_id\":\"char_id\"},inplace=True)\n",
    "        del df_i['item_type']\n",
    "        \n",
    "        test2 = test2.merge(df_i,how='left',on=['day','server','acc_id', 'char_id'])\n",
    "        \n",
    "test2 = test2.fillna(0) \n",
    "test2 = test2.merge(test2_activity,how='left',on=['day', 'acc_id', 'char_id', 'server'])\n",
    "test2 = test2.merge(test2_combat,how='left',on=['day', 'acc_id', 'char_id', 'server'])\n",
    "test2 = test2.merge(test2_pledge,how='left',on=['day', 'acc_id', 'char_id', 'server'])"
   ]
  },
  {
   "cell_type": "markdown",
   "metadata": {},
   "source": [
    "### 전처리 "
   ]
  },
  {
   "cell_type": "markdown",
   "metadata": {},
   "source": [
    "- 익명화된 값을 풀기"
   ]
  },
  {
   "cell_type": "code",
   "execution_count": null,
   "metadata": {},
   "outputs": [],
   "source": [
    "# 익명화된 값을 푸는 함수 \n",
    "def deanonymization(dataframe):\n",
    "    # columns_list에 속한 변수들을 0을 제외한 최솟값으로 나누어서 익명화를 푸는 작업입니다. \n",
    "    columns_list = [i for i in dataframe.columns.tolist() if i not in ['day','acc_id','char_id','game_money_change','server','class', 'level', 'pledge_id']]\n",
    "    for i in columns_list:\n",
    "        try:\n",
    "            dataframe[i] = (dataframe[i] / dataframe[dataframe[i] != 0][i].min())\n",
    "        except:\n",
    "            print(\"{} 변수는 deanonymization에 해당하지 않습니다.\".format(i))\n",
    "            \n",
    "    min_value = dataframe[dataframe['game_money_change'] > 0]['game_money_change'].min()\n",
    "    dataframe['game_money_change'] = (dataframe['game_money_change'] / min_value)\n",
    "    \n",
    "    return dataframe"
   ]
  },
  {
   "cell_type": "code",
   "execution_count": null,
   "metadata": {},
   "outputs": [],
   "source": [
    "train = deanonymization(train)\n",
    "test1 = deanonymization(test1)\n",
    "test2 = deanonymization(test2)"
   ]
  },
  {
   "cell_type": "markdown",
   "metadata": {},
   "source": [
    "- 변수명 수정 : rich_monster to boss_monster"
   ]
  },
  {
   "cell_type": "code",
   "execution_count": null,
   "metadata": {},
   "outputs": [],
   "source": [
    "train.rename(columns={\"rich_monster\":\"boss_monster\"},inplace=True)\n",
    "test1.rename(columns={\"rich_monster\":\"boss_monster\"},inplace=True)\n",
    "test2.rename(columns={\"rich_monster\":\"boss_monster\"},inplace=True)"
   ]
  },
  {
   "cell_type": "markdown",
   "metadata": {},
   "source": [
    "- 서버의 특성 분류 : PVP, NON-PVP, GENERAL"
   ]
  },
  {
   "cell_type": "code",
   "execution_count": null,
   "metadata": {},
   "outputs": [],
   "source": [
    "# 서버의 종류를 분류해주는 함수 \n",
    "def classification_server(dataframe):\n",
    "    # 서버변수가 있는 dataframe이 들어오면, server가 특화, 일반, NON-PVP \n",
    "    # 셋 중 무엇인지 분류해주는 함수입니다. \n",
    "    PVP = ['bj', 'bk', 'bl']\n",
    "    NON_PVP = ['be', 'bf', 'bg', 'bh', 'bi', 'bq', 'bs']\n",
    "    GENERAL = ['aa','ab','ac','ad','ae','af','ag','ah','ai', 'aj', 'ak', 'al', 'am', 'an', 'ao', 'ap', 'aq', 'ar', 'as', 'at', 'au', 'av', 'aw', 'ax', 'ay', 'az', 'bb', 'bc', 'bd', 'bm', 'bn', 'bo', 'bp', 'br']\n",
    "    \n",
    "    # 만약 dataframe에 서버변수가 없다면 자기 자신을 출력해주도록 합니다. \n",
    "    if 'server' not in dataframe.columns.tolist():\n",
    "        return dataframe \n",
    "    else :\n",
    "        dataframe['server_class'] = dataframe['server'].apply(lambda x: 'PVP' if x in PVP else ('NON-PVP' if x in NON_PVP else 'GENERAL'))\n",
    "        return dataframe"
   ]
  },
  {
   "cell_type": "code",
   "execution_count": null,
   "metadata": {},
   "outputs": [],
   "source": [
    "train = classification_server(train)\n",
    "test1 = classification_server(test1)\n",
    "test2 = classification_server(test2)"
   ]
  },
  {
   "cell_type": "markdown",
   "metadata": {},
   "source": [
    "- 레벨에 따른 실력 분류 \n",
    "    - 고수 : 80레벨 이상\n",
    "    - 중수 : 40 ~ 79레벨 \n",
    "    - 하수 : 39레벨 이하"
   ]
  },
  {
   "cell_type": "code",
   "execution_count": null,
   "metadata": {},
   "outputs": [],
   "source": [
    "# 캐릭터의 레벨에 따른 상태를 알려주는 함수  \n",
    "def classification_level(dataframe):\n",
    "    # 레벨변수가 있는 dataframe이 들어오면, 초보, 중수, 고수\n",
    "    # 셋 중 무엇인지 분류해주는 함수입니다. \n",
    "    # 만약 dataframe에 레벨변수가 없다면 자기 자신을 출력해주도록 합니다. \n",
    "    if 'level' not in dataframe.columns.tolist():\n",
    "        return dataframe\n",
    "    elif 'acc_id' not in dataframe.columns.tolist():\n",
    "        return dataframe\n",
    "    else :\n",
    "        dataframe_max_level = dataframe.groupby(['acc_id'])['level'].agg({'max'}).reset_index()\n",
    "        dataframe_max_level['level_class'] = dataframe_max_level['max'].apply(lambda x: 'Hasu' if x <= 7 else ('Joongsu' if x <= 16 else 'Gosu'))\n",
    "        dataframe_max_level = dataframe_max_level[['acc_id','level_class']]\n",
    "        dataframe = dataframe.merge(dataframe_max_level,how='left',on=['acc_id'])\n",
    "        return dataframe"
   ]
  },
  {
   "cell_type": "code",
   "execution_count": null,
   "metadata": {},
   "outputs": [],
   "source": [
    "train = classification_level(train)\n",
    "test1 = classification_level(test1)\n",
    "test2 = classification_level(test2)"
   ]
  },
  {
   "cell_type": "code",
   "execution_count": null,
   "metadata": {},
   "outputs": [],
   "source": [
    "# fishing, private_shop의 잘못된 값을 수정. \n",
    "def preprocessing(dataframe):\n",
    "    # 1. 30레벨(level = 5) 이전에 낚시하는 사람의 낚시 시간은 0. \n",
    "    dataframe.loc[dataframe['level'] <= 5, 'fishing'] = 0\n",
    "    # 2. 낚시를 함에도 solo_exp가 0인 사람은 낚시 시간 0. \n",
    "    dataframe.loc[dataframe['solo_exp'] == 0, 'fishing'] = 0\n",
    "    # 3. playtime시간보다 낚시, private_shop시간이 긴 사람은 max값이 playtime이 되도록 수정. \n",
    "    dataframe.loc[60*dataframe['playtime'] < dataframe['fishing'], 'fishing'] = 60 * dataframe.loc[60*dataframe['playtime'] < dataframe['fishing'], 'playtime'].values\n",
    "    dataframe.loc[60*dataframe['playtime'] < dataframe['private_shop'], 'private_shop'] = 60 * dataframe.loc[60*dataframe['playtime'] < dataframe['private_shop'], 'playtime'].values\n",
    "    return dataframe"
   ]
  },
  {
   "cell_type": "code",
   "execution_count": null,
   "metadata": {},
   "outputs": [],
   "source": [
    "train = preprocessing(train)\n",
    "test1 = preprocessing(test1)\n",
    "test2 = preprocessing(test2)"
   ]
  },
  {
   "cell_type": "markdown",
   "metadata": {},
   "source": [
    "- 본캐 : Level이 max인 acc_id내에서 char_id\n",
    "- 부캐 : 본캐가 아닌 char_id \n",
    "\n",
    "참고로 acc_id 8과 같이 max_level의 아이디가 여러개인 경우는 가장 접속시간이 긴 캐릭터를 선택했음. "
   ]
  },
  {
   "cell_type": "code",
   "execution_count": null,
   "metadata": {},
   "outputs": [],
   "source": [
    "# 본캐와 부캐를 구분하는 함수 \n",
    "def original_char_id(dataframe):\n",
    "    train_max_level = pd.DataFrame(dataframe.groupby(['acc_id','char_id'])['level'].max()).reset_index()\n",
    "    train_sum_playtime = pd.DataFrame(dataframe.groupby(['acc_id','char_id'])['playtime'].sum()).reset_index()\n",
    "    train_df = pd.merge(train_max_level,train_sum_playtime,how='left',on=['acc_id','char_id'])\n",
    "    train_df = train_df.sort_values(by=['level','playtime'],ascending=[False,False])\n",
    "    train_df['is_original_char'] = train_df.groupby(['acc_id']).cumcount()\n",
    "    train_df['is_original_char'] = train_df['is_original_char'].apply(lambda x: 1 if x == 0 else 0)\n",
    "    train_df = train_df[['acc_id','char_id','is_original_char']].reset_index(drop=True)\n",
    "    dataframe = dataframe.merge(train_df,how='left',on=['acc_id','char_id'])\n",
    "    return dataframe"
   ]
  },
  {
   "cell_type": "code",
   "execution_count": null,
   "metadata": {},
   "outputs": [],
   "source": [
    "train = original_char_id(train)\n",
    "test1 = original_char_id(test1)\n",
    "test2 = original_char_id(test2)"
   ]
  },
  {
   "cell_type": "markdown",
   "metadata": {},
   "source": [
    "### 피처 엔지니어링"
   ]
  },
  {
   "cell_type": "code",
   "execution_count": null,
   "metadata": {
    "scrolled": true
   },
   "outputs": [],
   "source": [
    "# day를 7일씩 쪼개서 몇주차의 데이터인지를 알려주는 부분입니다. \n",
    "train['week'] = (train['day']-1) // 7\n",
    "test1['week'] = (test1['day']-1) // 7\n",
    "test2['week'] = (test2['day']-1) // 7"
   ]
  },
  {
   "cell_type": "code",
   "execution_count": null,
   "metadata": {},
   "outputs": [],
   "source": [
    "train.head()"
   ]
  },
  {
   "cell_type": "raw",
   "metadata": {
    "scrolled": true
   },
   "source": [
    "# 본캐와 부캐의 정보를 분리하여 따로 변수를 만들 예정입니다. \n",
    "# Original : 본캐 \n",
    "# Sub : 부캐 \n",
    "orginal_train = train[train['is_original_char'] == 1] \n",
    "sub_train = train[train['is_original_char'] == 0]\n",
    "\n",
    "orginal_test1 = test1[test1['is_original_char'] == 1] \n",
    "sub_test1 = test1[test1['is_original_char'] == 0]\n",
    "\n",
    "orginal_test2 = test2[test2['is_original_char'] == 1] \n",
    "sub_test2 = test2[test2['is_original_char'] == 0]"
   ]
  },
  {
   "cell_type": "code",
   "execution_count": null,
   "metadata": {},
   "outputs": [],
   "source": [
    "orginal_train = train.copy()\n",
    "orginal_test1 = test1.copy()\n",
    "orginal_test2 = test2.copy()\n",
    "\n",
    "orginal_train_week1 = orginal_train[orginal_train['week'] == 0]\n",
    "orginal_train_week2 = orginal_train[orginal_train['week'] == 1]\n",
    "orginal_train_week3 = orginal_train[orginal_train['week'] == 2]\n",
    "orginal_train_week4 = orginal_train[orginal_train['week'] == 3]\n",
    "\n",
    "orginal_test1_week1 = orginal_test1[orginal_test1['week'] == 0]\n",
    "orginal_test1_week2 = orginal_test1[orginal_test1['week'] == 1]\n",
    "orginal_test1_week3 = orginal_test1[orginal_test1['week'] == 2]\n",
    "orginal_test1_week4 = orginal_test1[orginal_test1['week'] == 3]\n",
    "\n",
    "orginal_test2_week1 = orginal_test2[orginal_test2['week'] == 0]\n",
    "orginal_test2_week2 = orginal_test2[orginal_test2['week'] == 1]\n",
    "orginal_test2_week3 = orginal_test2[orginal_test2['week'] == 2]\n",
    "orginal_test2_week4 = orginal_test2[orginal_test2['week'] == 3]"
   ]
  },
  {
   "cell_type": "code",
   "execution_count": 177,
   "metadata": {},
   "outputs": [],
   "source": [
    "def create_new_columns(name,aggs):\n",
    "    return [name + '_' + k + '_' + agg for k in aggs.keys() for agg in aggs[k]]\n",
    "\n",
    "aggs = {}\n",
    "\n",
    "# \n",
    "aggs['server'] = ['nunique']\n",
    "aggs['playtime'] = ['sum','max','min','mean','var','count']\n",
    "aggs['npc_kill'] = ['sum','max','min','mean','var']\n",
    "aggs['solo_exp'] = ['sum','max','min','mean','var']\n",
    "aggs['party_exp'] = ['sum','max','min','mean','var']\n",
    "aggs['quest_exp'] = ['sum','max','min','mean','var']\n",
    "aggs['boss_monster'] = ['sum', 'mean','var']\n",
    "aggs['death'] = ['sum','max','var']\n",
    "aggs['revive'] = ['sum','max','var']\n",
    "aggs['exp_recovery'] = ['sum', 'max']\n",
    "aggs['fishing'] = ['sum','mean','var']\n",
    "aggs['private_shop'] = ['sum', 'mean', 'var']\n",
    "aggs['game_money_change'] = ['sum', 'mean', 'var', 'min', 'max']\n",
    "aggs['enchant_count'] = ['sum', 'mean', 'var', 'min', 'max']\n",
    "\n",
    "# 전투 정보 \n",
    "aggs['class'] = ['median']\n",
    "aggs['level'] = ['median']\n",
    "aggs['pledge_cnt'] = ['sum', 'mean', 'var', 'min', 'max']\n",
    "aggs['random_attacker_cnt_x'] = ['sum', 'mean', 'var', 'min', 'max']\n",
    "aggs['random_defender_cnt_x'] = ['sum', 'mean', 'var', 'min', 'max']\n",
    "aggs['temp_cnt_x'] = ['sum', 'mean', 'var', 'min', 'max']\n",
    "aggs['same_pledge_cnt_x'] = ['sum', 'mean', 'var', 'min', 'max']\n",
    "aggs['etc_cnt_x'] = ['sum', 'mean', 'var', 'min', 'max']\n",
    "aggs['num_opponent'] = ['sum', 'mean', 'var', 'min', 'max']\n",
    "\n",
    "# 혈맹의 정보 \n",
    "aggs['pledge_id'] = ['nunique']\n",
    "aggs['play_char_cnt'] = ['sum', 'mean', 'var', 'min', 'max']\n",
    "aggs['combat_char_cnt'] = ['sum', 'mean', 'var', 'min', 'max']\n",
    "aggs['pledge_combat_cnt'] = ['sum', 'mean', 'var', 'min', 'max']\n",
    "aggs['random_attacker_cnt_y'] = ['sum', 'mean', 'var', 'min', 'max']\n",
    "aggs['random_defender_cnt_y'] = ['sum', 'mean', 'var', 'min', 'max']\n",
    "aggs['same_pledge_cnt_y'] = ['sum', 'mean', 'var', 'min', 'max']\n",
    "aggs['temp_cnt_y'] = ['sum', 'mean', 'var', 'min', 'max']\n",
    "aggs['etc_cnt_y'] = ['sum', 'mean', 'var', 'min', 'max']\n",
    "aggs['combat_play_time'] = ['sum', 'mean', 'var', 'min', 'max']\n",
    "aggs['non_combat_play_time'] = ['sum', 'mean', 'var', 'min', 'max']\n",
    "\n",
    "# 거래 정보 \n",
    "# aggs['amount_spent'] = ['mean','sum','min','max','var']\n",
    "aggs['market_amount_source_etc'] = ['sum', 'mean', 'var', 'min', 'max']\n",
    "aggs['market_amount_source_enchant_scroll'] = ['sum', 'mean', 'var', 'min', 'max']\n",
    "aggs['market_amount_source_accessory'] = ['sum', 'mean', 'var', 'min', 'max']\n",
    "aggs['market_amount_source_armor'] = ['sum', 'mean', 'var', 'min', 'max']\n",
    "aggs['market_amount_source_weapon'] = ['sum', 'mean', 'var', 'min', 'max']\n",
    "aggs['market_amount_source_spell'] = ['sum', 'mean', 'var', 'min', 'max']\n",
    "\n",
    "aggs['market_price_source_etc'] = ['sum', 'mean', 'var', 'min', 'max']\n",
    "aggs['market_price_source_enchant_scroll'] = ['sum', 'mean', 'var', 'min', 'max']\n",
    "aggs['market_price_source_accessory'] = ['sum', 'mean', 'var', 'min', 'max']\n",
    "aggs['market_price_source_armor'] = ['sum', 'mean', 'var', 'min', 'max']\n",
    "aggs['market_price_source_weapon'] = ['sum', 'mean', 'var', 'min', 'max']\n",
    "aggs['market_price_source_spell'] = ['sum', 'mean', 'var', 'min', 'max']\n",
    "\n",
    "aggs['people_amount_source_etc'] = ['sum', 'mean', 'var', 'min', 'max']\n",
    "aggs['people_amount_source_enchant_scroll'] = ['sum', 'mean', 'var', 'min', 'max']\n",
    "aggs['people_amount_source_accessory'] = ['sum', 'mean', 'var', 'min', 'max']\n",
    "aggs['people_amount_source_armor'] = ['sum', 'mean', 'var', 'min', 'max']\n",
    "aggs['people_amount_source_weapon'] = ['sum', 'mean', 'var', 'min', 'max']\n",
    "aggs['people_amount_source_spell'] = ['sum', 'mean', 'var', 'min', 'max']\n",
    "\n",
    "aggs['market_amount_target_etc'] = ['sum', 'mean', 'var', 'min', 'max']\n",
    "aggs['market_amount_target_enchant_scroll'] = ['sum', 'mean', 'var', 'min', 'max']\n",
    "aggs['market_amount_target_accessory'] = ['sum', 'mean', 'var', 'min', 'max']\n",
    "aggs['market_amount_target_armor'] = ['sum', 'mean', 'var', 'min', 'max']\n",
    "aggs['market_amount_target_weapon'] = ['sum', 'mean', 'var', 'min', 'max']\n",
    "aggs['market_amount_target_spell'] = ['sum', 'mean', 'var', 'min', 'max']\n",
    "aggs['market_amount_target_adena'] = ['sum', 'mean', 'var', 'min', 'max']\n",
    "\n",
    "aggs['market_price_target_etc'] = ['sum', 'mean', 'var', 'min', 'max']\n",
    "aggs['market_price_target_enchant_scroll'] = ['sum', 'mean', 'var', 'min', 'max']\n",
    "aggs['market_price_target_accessory'] = ['sum', 'mean', 'var', 'min', 'max']\n",
    "aggs['market_price_target_armor'] = ['sum', 'mean', 'var', 'min', 'max']\n",
    "aggs['market_price_target_weapon'] = ['sum', 'mean', 'var', 'min', 'max']\n",
    "aggs['market_price_target_spell'] = ['sum', 'mean', 'var', 'min', 'max']\n",
    "aggs['market_price_target_adena'] = ['sum', 'mean', 'var', 'min', 'max']\n",
    "\n",
    "aggs['people_amount_target_etc'] = ['sum', 'mean', 'var', 'min', 'max']\n",
    "aggs['people_amount_target_enchant_scroll'] = ['sum', 'mean', 'var', 'min', 'max']\n",
    "aggs['people_amount_target_accessory'] = ['sum', 'mean', 'var', 'min', 'max']\n",
    "aggs['people_amount_target_armor'] = ['sum', 'mean', 'var', 'min', 'max']\n",
    "aggs['people_amount_target_weapon'] = ['sum', 'mean', 'var', 'min', 'max']\n",
    "aggs['people_amount_target_spell'] = ['sum', 'mean', 'var', 'min', 'max']\n",
    "aggs['people_amount_target_adena'] = ['sum', 'mean', 'var', 'min', 'max']"
   ]
  },
  {
   "cell_type": "code",
   "execution_count": 178,
   "metadata": {},
   "outputs": [],
   "source": [
    "new_columns = create_new_columns('week1',aggs)\n",
    "orginal_df_week1_group_df = orginal_train_week1.groupby(['acc_id']).agg(aggs)\n",
    "orginal_df_week1_group_df.columns = new_columns \n",
    "orginal_df_week1_group_df.reset_index(drop=False,inplace=True)\n",
    "\n",
    "new_columns = create_new_columns('week2',aggs)\n",
    "orginal_df_week2_group_df = orginal_train_week2.groupby(['acc_id']).agg(aggs)\n",
    "orginal_df_week2_group_df.columns = new_columns\n",
    "orginal_df_week2_group_df.reset_index(drop=False,inplace=True)\n",
    "\n",
    "new_columns = create_new_columns('week3',aggs)\n",
    "orginal_df_week3_group_df = orginal_train_week3.groupby(['acc_id']).agg(aggs)\n",
    "orginal_df_week3_group_df.columns = new_columns \n",
    "orginal_df_week3_group_df.reset_index(drop=False,inplace=True)\n",
    "\n",
    "new_columns = create_new_columns('week4',aggs)\n",
    "orginal_df_week4_group_df = orginal_train_week4.groupby(['acc_id']).agg(aggs)\n",
    "orginal_df_week4_group_df.columns = new_columns \n",
    "orginal_df_week4_group_df.reset_index(drop=False,inplace=True)"
   ]
  },
  {
   "cell_type": "code",
   "execution_count": 179,
   "metadata": {},
   "outputs": [],
   "source": [
    "orginal_train_week_group_df = pd.merge(orginal_df_week1_group_df,orginal_df_week2_group_df,how='outer',on='acc_id')\n",
    "orginal_train_week_group_df = pd.merge(orginal_train_week_group_df,orginal_df_week3_group_df,how='outer',on='acc_id')\n",
    "orginal_train_week_group_df = pd.merge(orginal_train_week_group_df,orginal_df_week4_group_df,how='outer',on='acc_id')"
   ]
  },
  {
   "cell_type": "code",
   "execution_count": 180,
   "metadata": {},
   "outputs": [],
   "source": [
    "new_columns = create_new_columns('week1',aggs)\n",
    "orginal_df_week1_group_df = orginal_test1_week1.groupby(['acc_id']).agg(aggs)\n",
    "orginal_df_week1_group_df.columns = new_columns \n",
    "orginal_df_week1_group_df.reset_index(drop=False,inplace=True)\n",
    "\n",
    "new_columns = create_new_columns('week2',aggs)\n",
    "orginal_df_week2_group_df = orginal_test1_week2.groupby(['acc_id']).agg(aggs)\n",
    "orginal_df_week2_group_df.columns = new_columns \n",
    "orginal_df_week2_group_df.reset_index(drop=False,inplace=True)\n",
    "\n",
    "new_columns = create_new_columns('week3',aggs)\n",
    "orginal_df_week3_group_df = orginal_test1_week3.groupby(['acc_id']).agg(aggs)\n",
    "orginal_df_week3_group_df.columns = new_columns \n",
    "orginal_df_week3_group_df.reset_index(drop=False,inplace=True)\n",
    "\n",
    "new_columns = create_new_columns('week4',aggs)\n",
    "orginal_df_week4_group_df = orginal_test1_week4.groupby(['acc_id']).agg(aggs)\n",
    "orginal_df_week4_group_df.columns = new_columns \n",
    "orginal_df_week4_group_df.reset_index(drop=False,inplace=True)"
   ]
  },
  {
   "cell_type": "code",
   "execution_count": 181,
   "metadata": {},
   "outputs": [],
   "source": [
    "orginal_test1_week_group_df = pd.merge(orginal_df_week1_group_df,orginal_df_week2_group_df,how='outer',on='acc_id')\n",
    "orginal_test1_week_group_df = pd.merge(orginal_test1_week_group_df,orginal_df_week3_group_df,how='outer',on='acc_id')\n",
    "orginal_test1_week_group_df = pd.merge(orginal_test1_week_group_df,orginal_df_week4_group_df,how='outer',on='acc_id')"
   ]
  },
  {
   "cell_type": "code",
   "execution_count": 182,
   "metadata": {},
   "outputs": [],
   "source": [
    "new_columns = create_new_columns('week1',aggs)\n",
    "orginal_df_week1_group_df = orginal_test2_week1.groupby(['acc_id']).agg(aggs)\n",
    "orginal_df_week1_group_df.columns = new_columns \n",
    "orginal_df_week1_group_df.reset_index(drop=False,inplace=True)\n",
    "\n",
    "new_columns = create_new_columns('week2',aggs)\n",
    "orginal_df_week2_group_df = orginal_test2_week2.groupby(['acc_id']).agg(aggs)\n",
    "orginal_df_week2_group_df.columns = new_columns \n",
    "orginal_df_week2_group_df.reset_index(drop=False,inplace=True)\n",
    "\n",
    "new_columns = create_new_columns('week3',aggs)\n",
    "orginal_df_week3_group_df = orginal_test2_week3.groupby(['acc_id']).agg(aggs)\n",
    "orginal_df_week3_group_df.columns = new_columns \n",
    "orginal_df_week3_group_df.reset_index(drop=False,inplace=True)\n",
    "\n",
    "new_columns = create_new_columns('week4',aggs)\n",
    "orginal_df_week4_group_df = orginal_test2_week4.groupby(['acc_id']).agg(aggs)\n",
    "orginal_df_week4_group_df.columns = new_columns \n",
    "orginal_df_week4_group_df.reset_index(drop=False,inplace=True)"
   ]
  },
  {
   "cell_type": "code",
   "execution_count": 183,
   "metadata": {},
   "outputs": [],
   "source": [
    "orginal_test2_week_group_df = pd.merge(orginal_df_week1_group_df,orginal_df_week2_group_df,how='outer',on='acc_id')\n",
    "orginal_test2_week_group_df = pd.merge(orginal_test2_week_group_df,orginal_df_week3_group_df,how='outer',on='acc_id')\n",
    "orginal_test2_week_group_df = pd.merge(orginal_test2_week_group_df,orginal_df_week4_group_df,how='outer',on='acc_id')"
   ]
  },
  {
   "cell_type": "code",
   "execution_count": 184,
   "metadata": {},
   "outputs": [],
   "source": [
    "orginal_train_week_group_df = orginal_train_week_group_df.merge(train[['acc_id','level_class']].drop_duplicates('acc_id'),how='left',on='acc_id')\n",
    "orginal_test1_week_group_df = orginal_test1_week_group_df.merge(test1[['acc_id','level_class']].drop_duplicates('acc_id'),how='left',on='acc_id')\n",
    "orginal_test2_week_group_df = orginal_test2_week_group_df.merge(test2[['acc_id','level_class']].drop_duplicates('acc_id'),how='left',on='acc_id')"
   ]
  },
  {
   "cell_type": "code",
   "execution_count": 186,
   "metadata": {},
   "outputs": [],
   "source": [
    "# weight = orginal_train_week_group_df['level_class'].apply(lambda x : 1 if x != 'Hasu' else 0.2).values"
   ]
  },
  {
   "cell_type": "code",
   "execution_count": 188,
   "metadata": {},
   "outputs": [
    {
     "data": {
      "application/vnd.jupyter.widget-view+json": {
       "model_id": "53f26fd1e6154524aae3273d7927a522",
       "version_major": 2,
       "version_minor": 0
      },
      "text/plain": [
       "HBox(children=(IntProgress(value=0, max=1370), HTML(value='')))"
      ]
     },
     "metadata": {},
     "output_type": "display_data"
    },
    {
     "name": "stdout",
     "output_type": "stream",
     "text": [
      "\n"
     ]
    }
   ],
   "source": [
    "from sklearn.preprocessing import LabelEncoder\n",
    "\n",
    "for col in tqdm_notebook(orginal_train_week_group_df.columns):\n",
    "    if orginal_train_week_group_df[col].dtype == 'object':\n",
    "        le = LabelEncoder()\n",
    "        le.fit(list(orginal_train_week_group_df[col].astype(str).values) + list(orginal_test1_week_group_df[col].astype(str).values) + list(orginal_test2_week_group_df[col].astype(str).values))\n",
    "        orginal_train_week_group_df[col] = le.transform(list(orginal_train_week_group_df[col].astype(str).values))\n",
    "        orginal_test1_week_group_df[col] = le.transform(list(orginal_test1_week_group_df[col].astype(str).values))   \n",
    "        orginal_test2_week_group_df[col] = le.transform(list(orginal_test2_week_group_df[col].astype(str).values))  "
   ]
  },
  {
   "cell_type": "code",
   "execution_count": 189,
   "metadata": {},
   "outputs": [
    {
     "name": "stdout",
     "output_type": "stream",
     "text": [
      "(40000, 1370) (20000, 1370) (20000, 1370)\n"
     ]
    }
   ],
   "source": [
    "print(orginal_train_week_group_df.shape, orginal_test1_week_group_df.shape, orginal_test2_week_group_df.shape)"
   ]
  },
  {
   "cell_type": "code",
   "execution_count": 190,
   "metadata": {},
   "outputs": [],
   "source": [
    "del orginal_train_week1;del orginal_train_week2;del orginal_train_week3;del orginal_train_week4;\n",
    "del orginal_test1_week1;del orginal_test1_week2;del orginal_test1_week3;del orginal_test1_week4;\n",
    "del orginal_test2_week1;del orginal_test2_week2;del orginal_test2_week3;del orginal_test2_week4;\n",
    "del orginal_df_week1_group_df; del orginal_df_week2_group_df; del orginal_df_week3_group_df; del orginal_df_week4_group_df"
   ]
  },
  {
   "cell_type": "code",
   "execution_count": 191,
   "metadata": {},
   "outputs": [
    {
     "data": {
      "text/plain": [
       "112"
      ]
     },
     "execution_count": 191,
     "metadata": {},
     "output_type": "execute_result"
    }
   ],
   "source": [
    "gc.collect()"
   ]
  },
  {
   "cell_type": "markdown",
   "metadata": {},
   "source": [
    "### Adversarial Validation "
   ]
  },
  {
   "cell_type": "code",
   "execution_count": 192,
   "metadata": {},
   "outputs": [],
   "source": [
    "features = [c for c in orginal_train_week_group_df.columns if c not in ['acc_id','char_id','server','survival_time','amount_spent','weight']]"
   ]
  },
  {
   "cell_type": "code",
   "execution_count": 193,
   "metadata": {},
   "outputs": [],
   "source": [
    "# 문제점\n",
    "# 파라미터에 따라서 아래와 결과가 달라짐. \n",
    "params = {'num_leaves': 491,\n",
    "          'min_child_weight': 0.03454472573214212,\n",
    "          'feature_fraction': 0.3797454081646243,\n",
    "          'bagging_fraction': 0.4181193142567742,\n",
    "          'min_data_in_leaf': 106,\n",
    "          'objective': 'binary',\n",
    "          'max_depth': -1,\n",
    "          'learning_rate': 0.006883242363721497,\n",
    "          \"boosting_type\": \"gbdt\",\n",
    "          \"bagging_seed\": 11,\n",
    "          \"metric\": 'auc',\n",
    "          \"verbosity\": -1,\n",
    "          'reg_alpha': 0.3899927210061127,\n",
    "          'reg_lambda': 0.6485237330340494,\n",
    "          'random_state': 47\n",
    "         }"
   ]
  },
  {
   "cell_type": "code",
   "execution_count": 113,
   "metadata": {},
   "outputs": [],
   "source": [
    "train_adversarial = orginal_train_week_group_df.copy()\n",
    "test_adversarial = orginal_test1_week_group_df.copy()"
   ]
  },
  {
   "cell_type": "code",
   "execution_count": 114,
   "metadata": {},
   "outputs": [],
   "source": [
    "from sklearn import model_selection, preprocessing, metrics\n",
    "\n",
    "train_adversarial['target'] = 0\n",
    "test_adversarial['target'] = 1\n",
    "\n",
    "train_test = pd.concat([train_adversarial, test_adversarial], axis =0)\n",
    "target = train_test['target'].values\n",
    "\n",
    "train_adversarial, test_adversarial = model_selection.train_test_split(train_test, test_size=0.33, random_state=42, shuffle=True)\n",
    "train_y = train_adversarial['target'].values\n",
    "test_y = test_adversarial['target'].values\n",
    "del train_adversarial['target'], test_adversarial['target']\n",
    "gc.collect()\n",
    "\n",
    "train_adversarial = lgb.Dataset(train_adversarial[features], label=train_y)\n",
    "test_adversarial = lgb.Dataset(test_adversarial[features], label=test_y)"
   ]
  },
  {
   "cell_type": "code",
   "execution_count": 119,
   "metadata": {},
   "outputs": [
    {
     "name": "stdout",
     "output_type": "stream",
     "text": [
      "Training until validation scores don't improve for 50 rounds.\n",
      "[50]\ttraining's auc: 0.98497\tvalid_1's auc: 0.977204\n",
      "Did not meet early stopping. Best iteration is:\n",
      "[50]\ttraining's auc: 0.98497\tvalid_1's auc: 0.977204\n"
     ]
    }
   ],
   "source": [
    "num_round = 50\n",
    "clf = lgb.train(params, train_adversarial, num_round, valid_sets = [train_adversarial, test_adversarial], verbose_eval=50, early_stopping_rounds = 50)"
   ]
  },
  {
   "cell_type": "code",
   "execution_count": 120,
   "metadata": {},
   "outputs": [
    {
     "data": {
      "image/png": "[encoded data removed]",
      "text/plain": [
       "<Figure size 1440x720 with 1 Axes>"
      ]
     },
     "metadata": {
      "needs_background": "light"
     },
     "output_type": "display_data"
    },
    {
     "data": {
      "text/plain": [
       "<Figure size 432x288 with 0 Axes>"
      ]
     },
     "metadata": {},
     "output_type": "display_data"
    }
   ],
   "source": [
    "feature_imp = pd.DataFrame(sorted(zip(clf.feature_importance(),features)), columns=['Value','Feature'])\n",
    "\n",
    "plt.figure(figsize=(20, 10))\n",
    "sns.barplot(x=\"Value\", y=\"Feature\", data=feature_imp.sort_values(by=\"Value\", ascending=False).head(20))\n",
    "plt.title('LightGBM Features')\n",
    "plt.tight_layout()\n",
    "plt.show()\n",
    "plt.savefig('lgbm_importances-01.png')"
   ]
  },
  {
   "cell_type": "code",
   "execution_count": 124,
   "metadata": {},
   "outputs": [],
   "source": [
    "# drop_features = feature_imp[feature_imp['Value'] > 20]['Feature'].values"
   ]
  },
  {
   "cell_type": "markdown",
   "metadata": {},
   "source": [
    "### 모델링"
   ]
  },
  {
   "cell_type": "markdown",
   "metadata": {},
   "source": [
    "변수로 서버추가해줘야 하고 레벨에 따라서 weight주는거 해결해야함. "
   ]
  },
  {
   "cell_type": "code",
   "execution_count": 194,
   "metadata": {},
   "outputs": [],
   "source": [
    "from sklearn.model_selection import KFold, StratifiedKFold, TimeSeriesSplit\n",
    "from sklearn.metrics import roc_auc_score\n",
    "import lightgbm as lgb"
   ]
  },
  {
   "cell_type": "raw",
   "metadata": {},
   "source": [
    "I use trial and error by hand. (Optimizations libraries work well too). For boosted trees, I test max_depths 3 thru 13. For LGBM, I prefer to leave the default max_depth= -1 and adjust num_leaves. For num_leaves, I test powers of 2, i.e. 2^3, 2^4, 2^5, …, 2^10, 2^11, 2^12 which is 8, 16, 32, …, 1024, 2048, 4092.\n",
    "\n",
    "Understanding the meaning of tree size (whether it be max_depth or num_leaves) helps you adjust the parameter efficiently. First tree size needs to be adjusted to match your encoding (category, numerical, one-hot, etc) as discussed above. Second, tree size controls how much interaction you allow between variables. If variables are mostly independent, smaller trees are better. If variables dependent on each other, larger trees are better.\n",
    "\n",
    "Note that finding tree size parameter only works after you set up a reliable validation scheme. Because you will find the tree size that maximizes your validation but that is meaningless if LB doesn't correlate with your validation."
   ]
  },
  {
   "cell_type": "code",
   "execution_count": 195,
   "metadata": {},
   "outputs": [],
   "source": [
    "params = {'num_leaves': 7,\n",
    "          'min_child_weight': 0.03454472573214212,\n",
    "          'feature_fraction': 0.3797454081646243,\n",
    "          'bagging_fraction': 0.4181193142567742,\n",
    "          'min_data_in_leaf': 106,\n",
    "          'objective': 'regression',\n",
    "          'max_depth': 3,\n",
    "          'learning_rate': 0.15,\n",
    "          \"boosting_type\": \"gbdt\",\n",
    "          \"bagging_seed\": 11,\n",
    "          \"metric\": 'mae',\n",
    "          \"verbosity\": -1,\n",
    "          \"lambda_l1\": 0.1, \n",
    "          'reg_alpha': 0.3899927210061127,\n",
    "          'reg_lambda': 0.6485237330340494,\n",
    "          'random_state': 47\n",
    "         }"
   ]
  },
  {
   "cell_type": "code",
   "execution_count": 196,
   "metadata": {
    "scrolled": true
   },
   "outputs": [],
   "source": [
    "orginal_train_week_group_df = orginal_train_week_group_df.merge(train_label,how='left',on='acc_id')"
   ]
  },
  {
   "cell_type": "markdown",
   "metadata": {},
   "source": [
    "### survival_time"
   ]
  },
  {
   "cell_type": "code",
   "execution_count": 197,
   "metadata": {},
   "outputs": [],
   "source": [
    "features = [c for c in orginal_train_week_group_df.columns if c not in ['acc_id','survival_time','amount_spent','weight']]"
   ]
  },
  {
   "cell_type": "code",
   "execution_count": 198,
   "metadata": {
    "scrolled": true
   },
   "outputs": [],
   "source": [
    "y = orginal_train_week_group_df['survival_time']\n",
    "X = orginal_train_week_group_df[features].reset_index(drop=True)\n",
    "\n",
    "test1 = orginal_test1_week_group_df[features].reset_index(drop=True)\n",
    "test2 = orginal_test2_week_group_df[features].reset_index(drop=True)"
   ]
  },
  {
   "cell_type": "code",
   "execution_count": 201,
   "metadata": {
    "scrolled": true
   },
   "outputs": [
    {
     "name": "stdout",
     "output_type": "stream",
     "text": [
      "Training on fold 1\n",
      "Training until validation scores don't improve for 50 rounds.\n",
      "[100]\ttraining's l1: 14.5919\tvalid_1's l1: 15.0079\n",
      "[200]\ttraining's l1: 13.8765\tvalid_1's l1: 14.6154\n",
      "[300]\ttraining's l1: 13.4535\tvalid_1's l1: 14.4582\n",
      "[400]\ttraining's l1: 13.093\tvalid_1's l1: 14.37\n",
      "[500]\ttraining's l1: 12.7388\tvalid_1's l1: 14.2714\n",
      "[600]\ttraining's l1: 12.4192\tvalid_1's l1: 14.1952\n",
      "[700]\ttraining's l1: 12.1107\tvalid_1's l1: 14.1313\n",
      "[800]\ttraining's l1: 11.8587\tvalid_1's l1: 14.0963\n",
      "[900]\ttraining's l1: 11.6133\tvalid_1's l1: 14.0738\n",
      "[1000]\ttraining's l1: 11.3632\tvalid_1's l1: 14.0253\n",
      "[1100]\ttraining's l1: 11.1099\tvalid_1's l1: 13.9768\n",
      "[1200]\ttraining's l1: 10.9147\tvalid_1's l1: 13.9661\n",
      "Early stopping, best iteration is:\n",
      "[1169]\ttraining's l1: 10.9679\tvalid_1's l1: 13.9609\n",
      "Fold 1 finished in 0:00:14.066548\n",
      "Training on fold 2\n",
      "Training until validation scores don't improve for 50 rounds.\n",
      "[100]\ttraining's l1: 14.5031\tvalid_1's l1: 15.2442\n",
      "[200]\ttraining's l1: 13.8293\tvalid_1's l1: 14.8896\n",
      "[300]\ttraining's l1: 13.3767\tvalid_1's l1: 14.7268\n",
      "[400]\ttraining's l1: 12.9728\tvalid_1's l1: 14.5835\n",
      "[500]\ttraining's l1: 12.6536\tvalid_1's l1: 14.4948\n",
      "[600]\ttraining's l1: 12.3402\tvalid_1's l1: 14.4082\n",
      "[700]\ttraining's l1: 12.0468\tvalid_1's l1: 14.3522\n",
      "[800]\ttraining's l1: 11.792\tvalid_1's l1: 14.3275\n",
      "[900]\ttraining's l1: 11.5386\tvalid_1's l1: 14.2838\n",
      "[1000]\ttraining's l1: 11.2812\tvalid_1's l1: 14.2388\n",
      "[1100]\ttraining's l1: 11.0647\tvalid_1's l1: 14.2079\n",
      "[1200]\ttraining's l1: 10.8513\tvalid_1's l1: 14.1679\n",
      "[1300]\ttraining's l1: 10.6317\tvalid_1's l1: 14.1294\n",
      "[1400]\ttraining's l1: 10.4381\tvalid_1's l1: 14.1095\n",
      "[1500]\ttraining's l1: 10.2476\tvalid_1's l1: 14.0999\n",
      "Did not meet early stopping. Best iteration is:\n",
      "[1500]\ttraining's l1: 10.2476\tvalid_1's l1: 14.0999\n",
      "Fold 2 finished in 0:00:17.039732\n",
      "Training on fold 3\n",
      "Training until validation scores don't improve for 50 rounds.\n",
      "[100]\ttraining's l1: 14.6027\tvalid_1's l1: 14.8349\n",
      "[200]\ttraining's l1: 13.8861\tvalid_1's l1: 14.4777\n",
      "[300]\ttraining's l1: 13.4213\tvalid_1's l1: 14.3406\n",
      "[400]\ttraining's l1: 13.0126\tvalid_1's l1: 14.201\n",
      "[500]\ttraining's l1: 12.6754\tvalid_1's l1: 14.1359\n",
      "[600]\ttraining's l1: 12.3608\tvalid_1's l1: 14.0437\n",
      "[700]\ttraining's l1: 12.0944\tvalid_1's l1: 14.0247\n",
      "[800]\ttraining's l1: 11.8197\tvalid_1's l1: 13.9679\n",
      "[900]\ttraining's l1: 11.5605\tvalid_1's l1: 13.9385\n",
      "[1000]\ttraining's l1: 11.3324\tvalid_1's l1: 13.9056\n",
      "[1100]\ttraining's l1: 11.0942\tvalid_1's l1: 13.8846\n",
      "Early stopping, best iteration is:\n",
      "[1099]\ttraining's l1: 11.0957\tvalid_1's l1: 13.8843\n",
      "Fold 3 finished in 0:00:13.871202\n",
      "Training on fold 4\n",
      "Training until validation scores don't improve for 50 rounds.\n",
      "[100]\ttraining's l1: 14.5128\tvalid_1's l1: 14.9945\n",
      "[200]\ttraining's l1: 13.8388\tvalid_1's l1: 14.6661\n",
      "[300]\ttraining's l1: 13.3785\tvalid_1's l1: 14.484\n",
      "[400]\ttraining's l1: 13.0063\tvalid_1's l1: 14.3851\n",
      "[500]\ttraining's l1: 12.6523\tvalid_1's l1: 14.3103\n",
      "[600]\ttraining's l1: 12.3556\tvalid_1's l1: 14.238\n",
      "[700]\ttraining's l1: 12.0929\tvalid_1's l1: 14.1883\n",
      "[800]\ttraining's l1: 11.8056\tvalid_1's l1: 14.1365\n",
      "[900]\ttraining's l1: 11.5561\tvalid_1's l1: 14.0885\n",
      "[1000]\ttraining's l1: 11.3343\tvalid_1's l1: 14.0637\n",
      "[1100]\ttraining's l1: 11.1153\tvalid_1's l1: 14.0376\n",
      "[1200]\ttraining's l1: 10.92\tvalid_1's l1: 14.024\n",
      "[1300]\ttraining's l1: 10.6998\tvalid_1's l1: 13.9936\n",
      "[1400]\ttraining's l1: 10.4864\tvalid_1's l1: 13.9709\n",
      "[1500]\ttraining's l1: 10.2767\tvalid_1's l1: 13.9539\n",
      "Did not meet early stopping. Best iteration is:\n",
      "[1500]\ttraining's l1: 10.2767\tvalid_1's l1: 13.9539\n",
      "Fold 4 finished in 0:00:17.172086\n",
      "Training on fold 5\n",
      "Training until validation scores don't improve for 50 rounds.\n",
      "[100]\ttraining's l1: 14.6178\tvalid_1's l1: 15.0944\n",
      "[200]\ttraining's l1: 13.9025\tvalid_1's l1: 14.7137\n",
      "[300]\ttraining's l1: 13.4175\tvalid_1's l1: 14.5231\n",
      "[400]\ttraining's l1: 13.0499\tvalid_1's l1: 14.4109\n",
      "[500]\ttraining's l1: 12.7174\tvalid_1's l1: 14.333\n",
      "[600]\ttraining's l1: 12.3593\tvalid_1's l1: 14.2173\n",
      "[700]\ttraining's l1: 12.0782\tvalid_1's l1: 14.135\n",
      "[800]\ttraining's l1: 11.8299\tvalid_1's l1: 14.0887\n",
      "Early stopping, best iteration is:\n",
      "[801]\ttraining's l1: 11.8266\tvalid_1's l1: 14.0857\n",
      "Fold 5 finished in 0:00:11.372929\n",
      "------------------------------\n",
      "Training has finished.\n",
      "Total training time is 0:01:13.554101\n",
      "Mean MAE: 13.996935911926329\n",
      "MAE: 13.2875558069004\n",
      "------------------------------\n"
     ]
    }
   ],
   "source": [
    "from time import time\n",
    "import datetime \n",
    "from sklearn.metrics import mean_absolute_error \n",
    "\n",
    "folds = StratifiedKFold(n_splits=5, shuffle=True, random_state=8343)\n",
    "preds1 = np.zeros(len(test1))\n",
    "preds2 = np.zeros(len(test2))\n",
    "oofs = np.zeros(len(X))\n",
    "\n",
    "mae = list()\n",
    "feature_importances = pd.DataFrame()\n",
    "feature_importances['feature'] = X.columns\n",
    "\n",
    "training_start_time = time()\n",
    "for fold, (trn_idx, test_idx) in enumerate(folds.split(X, X['level_class'].values)):\n",
    "    start_time = time()\n",
    "    print('Training on fold {}'.format(fold + 1))\n",
    "    \n",
    "    # lgb.Dataset(,weight='level_class')\n",
    "    trn_data = lgb.Dataset(X.iloc[trn_idx], label=y.iloc[trn_idx], weight = weight[trn_idx])\n",
    "    val_data = lgb.Dataset(X.iloc[test_idx], label=y.iloc[test_idx] , weight = weight[test_idx])\n",
    "    clf = lgb.train(params, trn_data, 1500, valid_sets = [trn_data, val_data], verbose_eval=100, early_stopping_rounds=50)\n",
    "    \n",
    "    feature_importances['fold_{}'.format(fold + 1)] = clf.feature_importance()\n",
    "    mae.append(clf.best_score['valid_1']['l1'])\n",
    "    preds1 += clf.predict(test1) / 5 ; preds2 += clf.predict(test2) / 5\n",
    "    oofs[test_idx] = clf.predict(X.iloc[test_idx])\n",
    "    \n",
    "    print('Fold {} finished in {}'.format(fold + 1, str(datetime.timedelta(seconds=time() - start_time))))\n",
    "print('-' * 30)\n",
    "print('Training has finished.')\n",
    "print('Total training time is {}'.format(str(datetime.timedelta(seconds=time() - training_start_time))))\n",
    "print('Mean MAE:', np.mean(mae))\n",
    "print('MAE:', mean_absolute_error(oofs,y))\n",
    "print('-' * 30)"
   ]
  },
  {
   "cell_type": "code",
   "execution_count": 202,
   "metadata": {},
   "outputs": [],
   "source": [
    "test1_predict = pd.DataFrame()\n",
    "test1_predict['acc_id'] = orginal_test1_week_group_df['acc_id']\n",
    "test1_predict['survival_time'] = preds1\n",
    "\n",
    "test2_predict = pd.DataFrame()\n",
    "test2_predict['acc_id'] = orginal_test2_week_group_df['acc_id']\n",
    "test2_predict['survival_time'] = preds2"
   ]
  },
  {
   "cell_type": "code",
   "execution_count": 203,
   "metadata": {},
   "outputs": [],
   "source": [
    "oofs_predict = pd.DataFrame()\n",
    "oofs_predict['acc_id'] = orginal_train_week_group_df['acc_id']\n",
    "oofs_predict['survival_time'] = oofs"
   ]
  },
  {
   "cell_type": "markdown",
   "metadata": {},
   "source": [
    "### amount_spent"
   ]
  },
  {
   "cell_type": "code",
   "execution_count": 204,
   "metadata": {},
   "outputs": [],
   "source": [
    "from sklearn.metrics import mean_squared_error"
   ]
  },
  {
   "cell_type": "code",
   "execution_count": 205,
   "metadata": {},
   "outputs": [],
   "source": [
    "y = orginal_train_week_group_df['amount_spent']\n",
    "X = orginal_train_week_group_df[features].reset_index(drop=True)\n",
    "\n",
    "test1 = orginal_test1_week_group_df[features].reset_index(drop=True)\n",
    "test2 = orginal_test2_week_group_df[features].reset_index(drop=True)"
   ]
  },
  {
   "cell_type": "code",
   "execution_count": 206,
   "metadata": {},
   "outputs": [
    {
     "name": "stdout",
     "output_type": "stream",
     "text": [
      "Training on fold 1\n",
      "Training until validation scores don't improve for 100 rounds.\n",
      "[100]\ttraining's l1: 0.141042\tvalid_1's l1: 0.13296\n",
      "Early stopping, best iteration is:\n",
      "[45]\ttraining's l1: 0.1378\tvalid_1's l1: 0.128747\n",
      "Fold 1 finished in 0:00:05.494503\n",
      "Training on fold 2\n",
      "Training until validation scores don't improve for 100 rounds.\n",
      "[100]\ttraining's l1: 0.137921\tvalid_1's l1: 0.142171\n",
      "Early stopping, best iteration is:\n",
      "[30]\ttraining's l1: 0.135796\tvalid_1's l1: 0.138288\n",
      "Fold 2 finished in 0:00:05.330525\n",
      "Training on fold 3\n",
      "Training until validation scores don't improve for 100 rounds.\n",
      "[100]\ttraining's l1: 0.137858\tvalid_1's l1: 0.138838\n",
      "Early stopping, best iteration is:\n",
      "[43]\ttraining's l1: 0.135173\tvalid_1's l1: 0.134893\n",
      "Fold 3 finished in 0:00:05.321868\n",
      "Training on fold 4\n",
      "Training until validation scores don't improve for 100 rounds.\n",
      "[100]\ttraining's l1: 0.130629\tvalid_1's l1: 0.145184\n",
      "Early stopping, best iteration is:\n",
      "[33]\ttraining's l1: 0.130657\tvalid_1's l1: 0.140991\n",
      "Fold 4 finished in 0:00:05.427370\n",
      "Training on fold 5\n",
      "Training until validation scores don't improve for 100 rounds.\n",
      "[100]\ttraining's l1: 0.136029\tvalid_1's l1: 0.146677\n",
      "Early stopping, best iteration is:\n",
      "[42]\ttraining's l1: 0.132387\tvalid_1's l1: 0.140922\n",
      "Fold 5 finished in 0:00:05.580115\n",
      "------------------------------\n",
      "Training has finished.\n",
      "Total training time is 0:00:27.227854\n",
      "Mean MAE: 0.13676819384619743\n",
      "MAE: 0.13676782202237625\n",
      "------------------------------\n"
     ]
    }
   ],
   "source": [
    "from time import time\n",
    "import datetime \n",
    "from sklearn.metrics import mean_absolute_error \n",
    "\n",
    "folds = StratifiedKFold(n_splits=5, shuffle=True, random_state=8343)\n",
    "preds1 = np.zeros(len(test1))\n",
    "preds2 = np.zeros(len(test2))\n",
    "oofs = np.zeros(len(X))\n",
    "\n",
    "mae = list()\n",
    "feature_importances = pd.DataFrame()\n",
    "feature_importances['feature'] = X.columns\n",
    "\n",
    "training_start_time = time()\n",
    "for fold, (trn_idx, test_idx) in enumerate(folds.split(X, X['level_class'].values)):\n",
    "    start_time = time()\n",
    "    print('Training on fold {}'.format(fold + 1))\n",
    "    \n",
    "    # lgb.Dataset(,weight='level_class')\n",
    "    trn_data = lgb.Dataset(X.iloc[trn_idx], label=y.iloc[trn_idx])\n",
    "    val_data = lgb.Dataset(X.iloc[test_idx], label=y.iloc[test_idx])\n",
    "    clf = lgb.train(params, trn_data, 2000, valid_sets = [trn_data, val_data], verbose_eval=100, early_stopping_rounds=100)\n",
    "    \n",
    "    feature_importances['fold_{}'.format(fold + 1)] = clf.feature_importance()\n",
    "    mae.append(clf.best_score['valid_1']['l1'])\n",
    "    preds1 += clf.predict(test1) / 5 ; preds2 += clf.predict(test2) / 5\n",
    "    oofs[test_idx] = clf.predict(X.iloc[test_idx])\n",
    "    \n",
    "    print('Fold {} finished in {}'.format(fold + 1, str(datetime.timedelta(seconds=time() - start_time))))\n",
    "print('-' * 30)\n",
    "print('Training has finished.')\n",
    "print('Total training time is {}'.format(str(datetime.timedelta(seconds=time() - training_start_time))))\n",
    "print('Mean MAE:', np.mean(mae))\n",
    "print('MAE:', mean_absolute_error(oofs,y))\n",
    "print('-' * 30)"
   ]
  },
  {
   "cell_type": "code",
   "execution_count": 207,
   "metadata": {},
   "outputs": [
    {
     "data": {
      "image/png": "[encoded data removed]",
      "text/plain": [
       "<Figure size 1440x720 with 1 Axes>"
      ]
     },
     "metadata": {
      "needs_background": "light"
     },
     "output_type": "display_data"
    },
    {
     "data": {
      "text/plain": [
       "<Figure size 432x288 with 0 Axes>"
      ]
     },
     "metadata": {},
     "output_type": "display_data"
    }
   ],
   "source": [
    "feature_imp = pd.DataFrame(sorted(zip(clf.feature_importance(),features)), columns=['Value','Feature'])\n",
    "\n",
    "plt.figure(figsize=(20, 10))\n",
    "sns.barplot(x=\"Value\", y=\"Feature\", data=feature_imp.sort_values(by=\"Value\", ascending=False).head(20))\n",
    "plt.title('LightGBM Features')\n",
    "plt.tight_layout()\n",
    "plt.show()\n",
    "plt.savefig('lgbm_importances-01.png')"
   ]
  },
  {
   "cell_type": "code",
   "execution_count": 208,
   "metadata": {},
   "outputs": [],
   "source": [
    "test1_predict['amount_spent'] = preds1\n",
    "test2_predict['amount_spent'] = preds2"
   ]
  },
  {
   "cell_type": "code",
   "execution_count": 209,
   "metadata": {},
   "outputs": [],
   "source": [
    "oofs_predict['amount_spent'] = oofs"
   ]
  },
  {
   "cell_type": "code",
   "execution_count": 210,
   "metadata": {},
   "outputs": [],
   "source": [
    "oofs_predict['survival_time'] = oofs_predict['survival_time'].apply(lambda x: 1 if x < 1 else x)\n",
    "oofs_predict['survival_time'] = np.around(oofs_predict['survival_time'].apply(lambda x: 64 if x > 64 else x))\n",
    "oofs_predict['amount_spent'] = oofs_predict['amount_spent'].apply(lambda x: 0 if x < 0 else x)"
   ]
  },
  {
   "cell_type": "code",
   "execution_count": 211,
   "metadata": {},
   "outputs": [],
   "source": [
    "oofs_predict.to_csv(\"oofs_predict.csv\",index=False)"
   ]
  },
  {
   "cell_type": "markdown",
   "metadata": {},
   "source": [
    "## Post - Processing "
   ]
  },
  {
   "cell_type": "markdown",
   "metadata": {},
   "source": [
    "반올림 해줘야 함 !!!"
   ]
  },
  {
   "cell_type": "code",
   "execution_count": 212,
   "metadata": {
    "scrolled": true
   },
   "outputs": [],
   "source": [
    "test1_predict['survival_time'] = test1_predict['survival_time'].apply(lambda x: 1 if x < 1 else x)\n",
    "test2_predict['survival_time'] = test2_predict['survival_time'].apply(lambda x: 1 if x < 1 else x)"
   ]
  },
  {
   "cell_type": "code",
   "execution_count": 213,
   "metadata": {},
   "outputs": [],
   "source": [
    "test1_predict['survival_time'] = np.around(test1_predict['survival_time'].apply(lambda x: 64 if x > 64 else x))\n",
    "test2_predict['survival_time'] = np.around(test2_predict['survival_time'].apply(lambda x: 64 if x > 64 else x))"
   ]
  },
  {
   "cell_type": "code",
   "execution_count": 214,
   "metadata": {},
   "outputs": [],
   "source": [
    "test1_predict['amount_spent'] = test1_predict['amount_spent'].apply(lambda x: 0 if x < 0 else x)\n",
    "test2_predict['amount_spent'] = test2_predict['amount_spent'].apply(lambda x: 0 if x < 0 else x)"
   ]
  },
  {
   "cell_type": "code",
   "execution_count": 215,
   "metadata": {},
   "outputs": [],
   "source": [
    "# -*- coding: utf-8 -*-\n",
    "\n",
    "# ------------------------------------------------------------------------ #\n",
    "# INPUT\n",
    "#    predicted_label : 예측 답안지 파일 경로 \n",
    "#    actual_label    : 실제 답안지 파일 경로\n",
    "#\n",
    "# OUTPUT             : 유저 기대이익 총합 \n",
    "#\n",
    "#\n",
    "# - 예측 답안지를 실제 답안과 비교하여 유저 기대이익 총합을 계산하는 함수\n",
    "# - 함수의 계산방식은 문제 설명서에 기술된 기대이익 산출식과 동일\n",
    "# ------------------------------------------------------------------------ #\n",
    "\n",
    "#필요한 모듈 import\n",
    "import pandas as pd\n",
    "import numpy as np\n",
    "import sys\n",
    "\n",
    "def score_function(predict_label, actual_label):\n",
    "    \n",
    "    predict = pd.read_csv(predict_label, engine='python') # 예측 답안 파일 불러오기\n",
    "    actual = pd.read_csv(actual_label,engine='python') # 실제 답안 파일 불러오기 \n",
    "\n",
    "    predict.acc_id = predict.acc_id.astype('int')\n",
    "    predict = predict.sort_values(by =['acc_id'], axis = 0) # 예측 답안을 acc_id 기준으로 정렬 \n",
    "    predict = predict.reset_index(drop = True)\n",
    "    actual.acc_id = actual.acc_id.astype('int')\n",
    "    actual = actual.sort_values(by =['acc_id'], axis = 0) # 실제 답안을 acc_id 기준으로 정렬\n",
    "    actual =actual.reset_index(drop=True)\n",
    "    \n",
    "    if predict.acc_id.equals(actual.acc_id) == False:\n",
    "        print('acc_id of predicted and actual label does not match')\n",
    "        sys.exit() # 예측 답안의 acc_id와 실제 답안의 acc_id가 다른 경우 에러처리 \n",
    "    else:\n",
    "            \n",
    "        S, alpha, L, sigma = 30, 0.01, 0.1, 15  \n",
    "        cost, gamma, add_rev = 0,0,0 \n",
    "        profit_result = []\n",
    "        survival_time_pred = list(predict.survival_time)\n",
    "        amount_spent_pred = list(predict.amount_spent)\n",
    "        survival_time_actual = list(actual.survival_time)\n",
    "        amount_spent_actual = list(actual.amount_spent)    \n",
    "        for i in range(len(survival_time_pred)):\n",
    "            if survival_time_pred[i] == 64 :                 \n",
    "                cost = 0\n",
    "                optimal_cost = 0\n",
    "            else:\n",
    "                cost = alpha * S * amount_spent_pred[i]                    #비용 계산\n",
    "                optimal_cost = alpha * S * amount_spent_actual[i]          #적정비용 계산 \n",
    "            \n",
    "            if optimal_cost == 0:\n",
    "                gamma = 0\n",
    "            elif cost / optimal_cost < L:\n",
    "                gamma = 0\n",
    "            elif cost / optimal_cost >= 1:\n",
    "                gamma = 1\n",
    "            else:\n",
    "                gamma = (cost)/((1-L)*optimal_cost) - L/(1-L)              #반응률 계산\n",
    "            \n",
    "            if survival_time_pred[i] == 64 or survival_time_actual[i] == 64:\n",
    "                T_k = 0\n",
    "            else:\n",
    "                T_k = S * np.exp(-((survival_time_pred[i] - survival_time_actual[i])**2)/(2*(sigma)**2))    #추가 생존기간 계산\n",
    "                \n",
    "            add_rev = T_k * amount_spent_actual[i]                         #잔존가치 계산\n",
    "    \n",
    "           \n",
    "            profit = gamma * add_rev - cost                                #유저별 기대이익 계산\n",
    "            profit_result.append(profit)\n",
    "            \n",
    "        score = sum(profit_result)                                         #기대이익 총합 계산\n",
    "        print(score)\n",
    "    return score"
   ]
  },
  {
   "cell_type": "code",
   "execution_count": 216,
   "metadata": {
    "scrolled": true
   },
   "outputs": [],
   "source": [
    "oofs_predict = pd.read_csv(\"oofs_predict.csv\")"
   ]
  },
  {
   "cell_type": "code",
   "execution_count": 217,
   "metadata": {},
   "outputs": [
    {
     "name": "stdout",
     "output_type": "stream",
     "text": [
      "15997.489088071523\n"
     ]
    },
    {
     "data": {
      "text/plain": [
       "15997.489088071523"
      ]
     },
     "execution_count": 217,
     "metadata": {},
     "output_type": "execute_result"
    }
   ],
   "source": [
    "score_function('./input/train_label.csv','oofs_predict.csv')"
   ]
  },
  {
   "cell_type": "raw",
   "metadata": {},
   "source": [
    "15805 "
   ]
  },
  {
   "cell_type": "code",
   "execution_count": 218,
   "metadata": {},
   "outputs": [],
   "source": [
    "test1_predict.to_csv(\"test1_predict.csv\",index=False)\n",
    "test2_predict.to_csv(\"test2_predict.csv\",index=False)"
   ]
  },
  {
   "cell_type": "code",
   "execution_count": null,
   "metadata": {},
   "outputs": [],
   "source": []
  }
 ],
 "metadata": {
  "kernelspec": {
   "display_name": "Python 3",
   "language": "python",
   "name": "python3"
  },
  "language_info": {
   "codemirror_mode": {
    "name": "ipython",
    "version": 3
   },
   "file_extension": ".py",
   "mimetype": "text/x-python",
   "name": "python",
   "nbconvert_exporter": "python",
   "pygments_lexer": "ipython3",
   "version": "3.6.8"
  }
 },
 "nbformat": 4,
 "nbformat_minor": 2
}
